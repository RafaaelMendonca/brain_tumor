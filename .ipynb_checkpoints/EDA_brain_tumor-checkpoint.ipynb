{
 "cells": [
  {
   "cell_type": "markdown",
   "id": "f7fdb7bf-7b64-42bf-a4de-3adeee001bb2",
   "metadata": {},
   "source": [
    "# Previsão de Classificação Tumor Cerebral e Taxa de Sobrevivência"
   ]
  },
  {
   "cell_type": "markdown",
   "id": "341ebaf7-36f9-4df1-bde2-e4dc33acf541",
   "metadata": {},
   "source": [
    "Neste projeto, construiremos um modelo de predição de tumores cerebrais, classificando-o como **benignos** ou **malignos**, além de prever a **taxa de sobrevivência** \n",
    "Para o desenvolvimento do projeto, seguiremos o framework CRIPS-DM com as seguintes etapas:\n",
    "1. Definição do problema\n",
    "2. Coleta de dados\n",
    "3. Análise Exploratória dos Dados\n",
    "4. Pré-processamento dos dados\n",
    "5. Visualização gráfica dos dados\n",
    "6. Dividir os dados em conjuntos de treino e teste\n",
    "7. Engenharia de features\n",
    "8. Treinamento do modelo, comparação, seleção de características e ajuste\n",
    "9. Teste e avaliação do modelo final de produção\n",
    "10. implementação\n",
    "\n",
    "Neste notebook, realizaremos até a etapa 5, fazendo a análise e pré-processamento dos dados\n",
    "\n",
    "## 1. Definição do Problema\n",
    "Em hospitais, a detecção precisa do tipo de tumor cerebral é fundamental para definir o tratamento adequado e as chances de sucesso no tratamento. A incapacidade de classificar corretamente os tumores pode levar a tratamentos inadequados, impactando negativamente a saúde do paciente. Este projeto visa desenvolver um modelo preditivo capaz de classificar com precisão se o tumor é benigno ou maligno e a taxa de sobrevivência, ajudando os médicos a tomar decisões mais informadas e a personalizar os tratamentos para cada paciente\n",
    "\n",
    "### 1.1 Contextualização do Problema\n",
    "Quando um paciente é diagnosticado com um tumor cerebral, é crucial classificar se ele é benigno ou maligno, pois isso determina diretamente o plano de tratamento. O objetivo desse projeto é fornecer uma ferramenta que permita essa classificação de maneira precisa, com base em características clínicas e exames realizados.\n",
    "\n",
    "### Quais são os objetivos principais do projeto?\n",
    "1. Classificar tumores cerebrais como beniginos ou malignos com base em dados clínicos\n",
    "2. Desenvolver um modelo preditivo que ajude na determinação do tipo de tumor e a taxa de sobrevivência\n",
    "3. Fornecer uma análise detalhada dos fatores que contribuem para a malignidade do tumor, possibilitando um melhor entendimento sobre o comportamento de diferentes tipos de tumores cerebrais.\n",
    "### Quais são os Benefícios do projeto?\n",
    "1. **Diagnóstico mais rápido e preciso**: Facilita a decisão sobre o tratamento adequado de maneira ágil, especialmente em situações de emergência.\n",
    "2. **redução de custo**: Otimiza o processo de diagnóstico e evita tratamentos inadequados ou desnecessários.\n",
    "3. **Aumento nas chances de sucesso de tratamento**: Ao detectar tumores malignos precocemente, as chances de sucesso no tratamento aumentam consideravelmente.\n",
    "4. **Personalização do tratamento**: Permite que os médicos escolham abordagens mais específicas para o tipo de tumor.\n",
    "5. **Proteção da saúde pública**: Melhora a qualidade do atendimento médico e reduz a mortalidade de pacientes diagnosticados com tumores malignos.\n",
    "\n",
    "Com a implementação deste modelo preditivo, o hospital poderá oferecer diagnóstico mais rápidos e precisos, maximizando as chances de tratamento bem-sucedido e melhorando a taxa de sobrevivência dos pacientes."
   ]
  },
  {
   "cell_type": "markdown",
   "id": "71ee2b2d-7dfe-4bc6-9bc5-e61ee63ca544",
   "metadata": {},
   "source": [
    "# Importando as bibliotecas"
   ]
  },
  {
   "cell_type": "code",
   "execution_count": 3,
   "id": "e915f363-4dc5-4578-a9b6-4b336e0ea7bc",
   "metadata": {},
   "outputs": [],
   "source": [
    "import pandas as pd\n",
    "import numpy as np\n",
    "import matplotlib.pyplot as plt\n",
    "import seaborn as sns"
   ]
  },
  {
   "cell_type": "code",
   "execution_count": null,
   "id": "ed44a512-3dfe-472b-949e-755f99039a78",
   "metadata": {},
   "outputs": [],
   "source": []
  }
 ],
 "metadata": {
  "kernelspec": {
   "display_name": "Python 3 (ipykernel)",
   "language": "python",
   "name": "python3"
  },
  "language_info": {
   "codemirror_mode": {
    "name": "ipython",
    "version": 3
   },
   "file_extension": ".py",
   "mimetype": "text/x-python",
   "name": "python",
   "nbconvert_exporter": "python",
   "pygments_lexer": "ipython3",
   "version": "3.12.6"
  }
 },
 "nbformat": 4,
 "nbformat_minor": 5
}
